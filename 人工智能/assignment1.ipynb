{
 "cells": [
  {
   "cell_type": "code",
   "execution_count": 34,
   "metadata": {},
   "outputs": [
    {
     "data": {
      "text/plain": [
       "((1000, 2), (1000,), 0.6809927155388502, 2.0)"
      ]
     },
     "execution_count": 34,
     "metadata": {},
     "output_type": "execute_result"
    }
   ],
   "source": [
    "from sklearn.datasets import make_blobs\n",
    "\n",
    "# 自定义数据集\n",
    "X, y = make_blobs(n_samples=1000, centers=5, random_state=8)\n",
    "X.shape, y.shape, X.mean(), y.mean()\n"
   ]
  },
  {
   "cell_type": "code",
   "execution_count": 23,
   "metadata": {},
   "outputs": [
    {
     "data": {
      "text/plain": [
       "((750, 2), (250, 2), (750,), (250,))"
      ]
     },
     "execution_count": 23,
     "metadata": {},
     "output_type": "execute_result"
    }
   ],
   "source": [
    "from sklearn.model_selection import train_test_split\n",
    "\n",
    "# 拆分数据集\n",
    "X_train, X_test, y_train, y_test = train_test_split(X, y, random_state=0)\n",
    "X_train.shape, X_test.shape, y_train.shape, y_test.shape"
   ]
  },
  {
   "cell_type": "code",
   "execution_count": 28,
   "metadata": {},
   "outputs": [
    {
     "name": "stdout",
     "output_type": "stream",
     "text": [
      "name: KNN with k：1; cross val score: 0.9399999999999998\n",
      "name: KNN with k：2; cross val score: 0.9280000000000002\n",
      "name: KNN with k：3; cross val score: 0.9493333333333334\n",
      "name: KNN with k：4; cross val score: 0.9493333333333333\n",
      "name: KNN with k：5; cross val score: 0.9560000000000001\n",
      "name: KNN with k：6; cross val score: 0.9493333333333333\n",
      "name: KNN with k：7; cross val score: 0.9600000000000002\n",
      "name: KNN with k：8; cross val score: 0.9546666666666667\n",
      "name: KNN with k：9; cross val score: 0.9520000000000002\n"
     ]
    }
   ],
   "source": [
    "from sklearn.neighbors import KNeighborsClassifier\n",
    "from sklearn.model_selection import cross_val_score\n",
    "\n",
    "# 模型初始化与训练, 尝试不同的k\n",
    "for k in range(1, 10):\n",
    "    model = KNeighborsClassifier(k)\n",
    "    cv_result = cross_val_score(model, X_train, y_train, cv=10)\n",
    "    print(f\"name: KNN with k：{k}; cross val score: {cv_result.mean()}\")\n"
   ]
  },
  {
   "cell_type": "code",
   "execution_count": 35,
   "metadata": {},
   "outputs": [
    {
     "data": {
      "text/plain": [
       "array([4])"
      ]
     },
     "execution_count": 35,
     "metadata": {},
     "output_type": "execute_result"
    }
   ],
   "source": [
    "# 采用cross_val_score选出准确度最大的模型\n",
    "model = KNeighborsClassifier(7)\n",
    "model.fit(X_train, y_train)\n",
    "\n",
    "# 预测一个新数据\n",
    "model.predict([[0.521, 0.1314]])"
   ]
  }
 ],
 "metadata": {
  "interpreter": {
   "hash": "70a55d7fa456e3a7e35b85df9257e83dd1a0ed96c71494afde158dc06ad88e8f"
  },
  "kernelspec": {
   "display_name": "Python 3.7.9 64-bit",
   "language": "python",
   "name": "python3"
  },
  "language_info": {
   "codemirror_mode": {
    "name": "ipython",
    "version": 3
   },
   "file_extension": ".py",
   "mimetype": "text/x-python",
   "name": "python",
   "nbconvert_exporter": "python",
   "pygments_lexer": "ipython3",
   "version": "3.7.9"
  },
  "orig_nbformat": 4
 },
 "nbformat": 4,
 "nbformat_minor": 2
}

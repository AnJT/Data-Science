{
 "cells": [
  {
   "cell_type": "code",
   "execution_count": 1,
   "metadata": {},
   "outputs": [],
   "source": [
    "# iris数据集加载、MinMaxScaler缩放\n",
    "from sklearn.datasets import load_iris\n",
    "iris = load_iris()\n",
    "X = iris.data\n",
    "y = iris.target\n",
    "\n",
    "from sklearn.model_selection import train_test_split\n",
    "from sklearn.preprocessing import MinMaxScaler\n",
    "\n",
    "X_train, X_test, y_train, y_test = train_test_split(X, y, stratify=y, random_state=0)\n",
    "scaler = MinMaxScaler() # 缩放处理\n",
    "X_train_scaled = scaler.fit_transform(X_train)\n",
    "X_test_scaled = scaler.transform(X_test)"
   ]
  },
  {
   "cell_type": "code",
   "execution_count": 2,
   "metadata": {},
   "outputs": [
    {
     "name": "stdout",
     "output_type": "stream",
     "text": [
      "最有超参数组合: {'C': 5, 'gamma': 1, 'kernel': 'rbf'}\n",
      "最有模型交叉验证得分: 0.9553\n"
     ]
    }
   ],
   "source": [
    "# 网格搜索最佳参数组合\n",
    "from sklearn.svm import SVC\n",
    "from sklearn.model_selection import GridSearchCV\n",
    "from sklearn.metrics import classification_report\n",
    "\n",
    "# 设置交叉验证参数\n",
    "tuned_parameters = [\n",
    "    {\"kernel\": [\"rbf\"], \"gamma\": [1,0.1,1e-2,1e-3, 1e-4], \"C\": [1,5,10,50]},\n",
    "    {\"kernel\": [\"linear\"], \"C\": [1, 5, 10, 50]},\n",
    "    {\"kernel\":[\"poly\"],\"gamma\":[10,1,0.1,1e-2,1e-3,1e-4],\"C\":[1,5,10,50],\n",
    "     \"degree\":[2,3,4,5,6]}]\n",
    "\n",
    "clf = GridSearchCV(SVC(), tuned_parameters)\n",
    "clf.fit(X_train_scaled, y_train)\n",
    "\n",
    "print(f\"最优超参数组合: {clf.best_params_}\")\n",
    "print(f\"最优模型交叉验证得分: {clf.best_score_:.4f}\")"
   ]
  }
 ],
 "metadata": {
  "kernelspec": {
   "display_name": "Python 3.7.9 64-bit",
   "language": "python",
   "name": "python3"
  },
  "language_info": {
   "codemirror_mode": {
    "name": "ipython",
    "version": 3
   },
   "file_extension": ".py",
   "mimetype": "text/x-python",
   "name": "python",
   "nbconvert_exporter": "python",
   "pygments_lexer": "ipython3",
   "version": "3.7.9"
  },
  "orig_nbformat": 4,
  "vscode": {
   "interpreter": {
    "hash": "70a55d7fa456e3a7e35b85df9257e83dd1a0ed96c71494afde158dc06ad88e8f"
   }
  }
 },
 "nbformat": 4,
 "nbformat_minor": 2
}
